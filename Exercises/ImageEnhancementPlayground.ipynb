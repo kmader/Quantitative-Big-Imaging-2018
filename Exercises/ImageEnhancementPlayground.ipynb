{
 "cells": [
  {
   "cell_type": "code",
   "execution_count": 1,
   "metadata": {},
   "outputs": [],
   "source": [
    "%matplotlib inline\n",
    "# To prevent automatic figure display when execution of the cell ends\n",
    "%config InlineBackend.close_figures=False \n",
    "import matplotlib.pyplot as plt\n",
    "import numpy as np\n",
    "import skimage.data\n",
    "from skimage.color import rgb2gray\n",
    "from IPython.display import display, update_display, clear_output\n",
    "import ipywidgets as ipw\n",
    "from skimage.filters import gaussian, median\n",
    "from scipy import ndimage as ndi\n",
    "from skimage.restoration import denoise_nl_means, denoise_wavelet\n",
    "from skimage.morphology import disk, octagon as oct_func, star, square\n",
    "from warnings import warn\n",
    "def horizontal_line(n):\n",
    "    return np.pad(np.ones((1, 2*n+1)), [[n, n],[0,0]], mode = 'constant', constant_values = 0).astype(int)\n",
    "def vertical_line(n):\n",
    "    return horizontal_line(n).T\n",
    "def cross(n):\n",
    "    return ((horizontal_line(n)+vertical_line(n))>0).astype(int)\n",
    "def octagon(n):\n",
    "    return oct_func(n, n)"
   ]
  },
  {
   "cell_type": "code",
   "execution_count": 2,
   "metadata": {},
   "outputs": [],
   "source": [
    "def clean_img(x):\n",
    "    if isinstance(x, tuple):\n",
    "        x = x[0]\n",
    "    y = rgb2gray(x)\n",
    "    if y.dtype==np.uint8:\n",
    "        y = y/255.0\n",
    "    if y.dtype==bool:\n",
    "        y = y/1.0\n",
    "    return y\n",
    "\n",
    "sample_images = {c_id: clean_img(getattr(skimage.data, c_id)()) for c_id in ['astronaut',\n",
    " 'camera',\n",
    " 'checkerboard',\n",
    " 'chelsea',\n",
    " 'clock',\n",
    " 'coffee',\n",
    " 'coins',\n",
    " 'horse',\n",
    " 'hubble_deep_field',\n",
    " 'immunohistochemistry',\n",
    " 'moon',\n",
    " 'page',\n",
    " 'text',\n",
    " 'rocket',\n",
    " 'stereo_motorcycle']}\n",
    "\n",
    "def salt_and_pepper(x, strength):\n",
    "    y = x.copy()\n",
    "    y[np.random.uniform(0,1, size=x.shape)<strength/2.0] = x.min()\n",
    "    y[np.random.uniform(0,1, size=x.shape)<strength/2.0] = x.max()\n",
    "    return y\n",
    "\n",
    "def additive_gaussian(x, strength):\n",
    "    return x+np.random.normal(0,strength, size=x.shape)\n",
    "\n",
    "def multiplicative_gaussian(x, strength):\n",
    "    return x*np.random.normal(1, strength, size=x.shape)\n",
    "\n",
    "def horizontally_streaky_salt(x, strength):\n",
    "    y = x.copy()\n",
    "    y[np.random.uniform(0,1, size=x.shape[0])<strength/2.0, :] = x.min()\n",
    "    y[np.random.uniform(0,1, size=x.shape[0])<strength/2.0, :] = x.max()\n",
    "    return y\n",
    "\n",
    "def vertically_streaky_salt(x, strength):\n",
    "    y = x.copy()\n",
    "    y[:, np.random.uniform(0,1, size=x.shape[1])<strength/2.0] = x.min()\n",
    "    y[:, np.random.uniform(0,1, size=x.shape[1])<strength/2.0] = x.max()\n",
    "    return y\n",
    "\n",
    "def no_filter(x, **kwargs):\n",
    "    return x\n",
    "\n",
    "def gaussian_filter(x, size, neighborhood):\n",
    "    # gaussian from skimage doesn't implement custom neighborhood\n",
    "    base_kernel = neighborhood(size)\n",
    "    impulse_img = np.zeros_like(base_kernel, dtype = np.float32)\n",
    "    impulse_img[impulse_img.shape[0]//2, impulse_img.shape[1]//2] = 1.0\n",
    "    g_kernel = gaussian(impulse_img, sigma = size)\n",
    "    g_kernel = g_kernel*base_kernel\n",
    "    g_kernel /= g_kernel.sum()\n",
    "    return ndi.convolve(x, g_kernel, mode='constant', cval=0.0)\n",
    "\n",
    "def median_filter(x, size, neighborhood):\n",
    "    return median((x*255).clip(0, 255).astype(np.uint8), neighborhood(size))/255.0\n",
    "\n",
    "def nonlocal_means(x, size, neighborhood):\n",
    "    if neighborhood.__name__ != 'square':\n",
    "        warn('Nonlocal means only uses square filters', RuntimeWarning)\n",
    "    return denoise_nl_means(x, patch_size=size)\n",
    "def wavelet_filter(x, size, neighborhood):\n",
    "    if neighborhood.__name__ != 'square':\n",
    "        warn('Wsvelet means only uses square filters', RuntimeWarning)\n",
    "    return denoise_wavelet(x, sigma=size)\n"
   ]
  },
  {
   "cell_type": "code",
   "execution_count": 3,
   "metadata": {},
   "outputs": [],
   "source": [
    "plt.ioff()\n",
    "fig, m_axs = plt.subplots(2, 2, figsize = (12, 9), dpi = 120)\n",
    "mpl_out = ipw.Output()\n",
    "def show_results(m_axs, in_img, noise_func, noise_strength, filter_func, filter_args):\n",
    "    ((ax_img, ax_noise), (ax_filt, ax_diff)) = m_axs\n",
    "    plot_args = dict(cmap = 'bone', vmin = 0, vmax = 1)\n",
    "    ax_img.imshow(in_img, **plot_args)\n",
    "    ax_img.axis('off')\n",
    "    ax_img.set_title('Original Image')\n",
    "    \n",
    "    noise_img = noise_func(in_img, noise_strength)\n",
    "    \n",
    "    ax_noise.imshow(noise_img, **plot_args)\n",
    "    ax_noise.set_title('Noise Image\\n%s (%2.1f%%)\\nMSE: %2.2f%%' % (noise_func.__name__, 100*noise_strength,\n",
    "                                                       100*np.mean(np.square(noise_img-in_img))))\n",
    "    ax_noise.axis('off')\n",
    "    \n",
    "    filt_img = filter_func(noise_img, **filter_args)\n",
    "    \n",
    "    ax_filt.imshow(filt_img, **plot_args)\n",
    "    f_args_str = '\\n'.join(['{} = {}'.format(k,getattr(v, '__name__', v)) for k,v in filter_args.items()]) if len(filter_args)>0 else ''\n",
    "    ax_filt.set_title('{}\\n{}'.format(filter_func.__name__, f_args_str))\n",
    "    ax_filt.axis('off')\n",
    "    \n",
    "    diff_img = filt_img-in_img\n",
    "    v_max = np.abs(diff_img).max()\n",
    "    ax_diff.imshow(diff_img, cmap = 'RdBu', vmin = -v_max, vmax = v_max)\n",
    "    ax_diff.set_title('Difference Image\\nMSE: %2.2f%%' % (100*np.mean(np.square(diff_img))))\n",
    "    ax_diff.axis('off')"
   ]
  },
  {
   "cell_type": "code",
   "execution_count": 4,
   "metadata": {},
   "outputs": [],
   "source": [
    "fn_dict = lambda x: [(getattr(f,'__name__', f), f) for f in x]\n",
    "\n",
    "image_name = ipw.Dropdown(options = sample_images.keys())\n",
    "noise_func = ipw.Dropdown(options = fn_dict([salt_and_pepper, additive_gaussian, \n",
    "                                                               multiplicative_gaussian, \n",
    "                                             vertically_streaky_salt, \n",
    "                                             horizontally_streaky_salt]))\n",
    "noise_level = ipw.FloatSlider(min = 0, max = 1, value = 0.1, step = 0.025)\n",
    "filter_func = ipw.Dropdown(options = fn_dict([no_filter, gaussian_filter, median_filter, nonlocal_means, wavelet_filter]))\n",
    "\n",
    "neighbor_functions = [square, disk, cross, horizontal_line, vertical_line, star, octagon]\n",
    "filter_shape = ipw.Dropdown(options = fn_dict(neighbor_functions))\n",
    "filter_size = ipw.IntSlider(min =1, max = 50, value = 3)\n",
    "\n",
    "def update_image(*args):\n",
    "    show_results(m_axs, \n",
    "                 sample_images[image_name.value],\n",
    "                 noise_func.value, \n",
    "                 noise_level.value, \n",
    "                 filter_func.value, \n",
    "                 {'size': filter_size.value,\n",
    "                  'neighborhood': filter_shape.value\n",
    "                 })\n",
    "    with mpl_out:\n",
    "        clear_output(wait=True)\n",
    "        display(fig)\n",
    "update_image()"
   ]
  },
  {
   "cell_type": "code",
   "execution_count": 5,
   "metadata": {},
   "outputs": [
    {
     "data": {
      "application/vnd.jupyter.widget-view+json": {
       "model_id": "c69b20a99ab74c35a5b8623e9568c510",
       "version_major": 2,
       "version_minor": 0
      },
      "text/plain": [
       "VBox(children=(VBox(children=(HBox(children=(Label(value='Image Name:'), Dropdown(options=('astronaut', 'camer…"
      ]
     },
     "metadata": {},
     "output_type": "display_data"
    }
   ],
   "source": [
    "display(ipw.VBox([ipw.VBox([ipw.HBox([ipw.Label(value = 'Image Name:'), image_name]), \n",
    "                    ipw.HBox([ipw.Label(value = 'Noise Type:'), noise_func]),\n",
    "                    ipw.HBox([ipw.Label(value = 'Noise Level:'), noise_level]),\n",
    "                    ipw.HBox([ipw.Label(value = 'Filter Name:'), filter_func]),\n",
    "                    ipw.HBox([ipw.Label(value = 'Filter Shape:'), filter_shape]),\n",
    "                    ipw.HBox([ipw.Label(value = 'Filter Size:'), filter_size]),\n",
    "                            mpl_out\n",
    "                   ])]))"
   ]
  },
  {
   "cell_type": "code",
   "execution_count": 6,
   "metadata": {
    "scrolled": false
   },
   "outputs": [],
   "source": [
    "# add callbacks\n",
    "image_name.observe(update_image, names='value')\n",
    "noise_func.observe(update_image, names='value')\n",
    "noise_level.observe(update_image, names='value')\n",
    "filter_func.observe(update_image, names='value')\n",
    "filter_shape.observe(update_image, names='value')\n",
    "filter_size.observe(update_image, names='value');"
   ]
  }
 ],
 "metadata": {
  "kernelspec": {
   "display_name": "Python 3",
   "language": "python",
   "name": "python3"
  },
  "language_info": {
   "codemirror_mode": {
    "name": "ipython",
    "version": 3
   },
   "file_extension": ".py",
   "mimetype": "text/x-python",
   "name": "python",
   "nbconvert_exporter": "python",
   "pygments_lexer": "ipython3",
   "version": "3.6.7"
  },
  "widgets": {
   "application/vnd.jupyter.widget-state+json": {
    "state": {
     "06e5f7ae74074e3ba401e82a646d1c00": {
      "model_module": "@jupyter-widgets/controls",
      "model_module_version": "1.1.0",
      "model_name": "LabelModel",
      "state": {
       "layout": "IPY_MODEL_9d2e966d2f974a138b81d93ceb651fd1",
       "style": "IPY_MODEL_44e8a6c3374048ba8bd5b30f3d0399b2",
       "value": "Noise Type:"
      }
     },
     "0760ce713503407c9d8db6f78aaa752a": {
      "model_module": "@jupyter-widgets/base",
      "model_module_version": "1.0.0",
      "model_name": "LayoutModel",
      "state": {}
     },
     "0f99131dd71e42ef9dfa7b7a67af3f61": {
      "model_module": "@jupyter-widgets/base",
      "model_module_version": "1.0.0",
      "model_name": "LayoutModel",
      "state": {}
     },
     "18852e3e085644d8be3373b0b05055b9": {
      "model_module": "@jupyter-widgets/base",
      "model_module_version": "1.0.0",
      "model_name": "LayoutModel",
      "state": {}
     },
     "28c4f28e6794461d85ae8512d0e62cca": {
      "model_module": "@jupyter-widgets/base",
      "model_module_version": "1.0.0",
      "model_name": "LayoutModel",
      "state": {}
     },
     "28f215aa64b840ea940fa50d4ef1d394": {
      "model_module": "@jupyter-widgets/controls",
      "model_module_version": "1.1.0",
      "model_name": "DescriptionStyleModel",
      "state": {
       "description_width": ""
      }
     },
     "3cd21da2312745fe9f925430531eb657": {
      "model_module": "@jupyter-widgets/controls",
      "model_module_version": "1.1.0",
      "model_name": "SliderStyleModel",
      "state": {
       "description_width": ""
      }
     },
     "44e8a6c3374048ba8bd5b30f3d0399b2": {
      "model_module": "@jupyter-widgets/controls",
      "model_module_version": "1.1.0",
      "model_name": "DescriptionStyleModel",
      "state": {
       "description_width": ""
      }
     },
     "47debd2a00314529a667438e2b214937": {
      "model_module": "@jupyter-widgets/controls",
      "model_module_version": "1.1.0",
      "model_name": "HBoxModel",
      "state": {
       "children": [
        "IPY_MODEL_6b7b8ba72a4d45c0a7f718e039e646f6",
        "IPY_MODEL_8b16a4d22b64452893ab3b8f1395c452"
       ],
       "layout": "IPY_MODEL_e8c8d9a0ab2740ba978730e851eb72de"
      }
     },
     "55c08e3d2fc449ce80958b00514ec283": {
      "model_module": "@jupyter-widgets/controls",
      "model_module_version": "1.1.0",
      "model_name": "DescriptionStyleModel",
      "state": {
       "description_width": ""
      }
     },
     "5826a00510a7434fbdbd74010a7b1ffd": {
      "model_module": "@jupyter-widgets/controls",
      "model_module_version": "1.1.0",
      "model_name": "DescriptionStyleModel",
      "state": {
       "description_width": ""
      }
     },
     "676363a1704b49a8851af904c28af781": {
      "model_module": "@jupyter-widgets/base",
      "model_module_version": "1.0.0",
      "model_name": "LayoutModel",
      "state": {}
     },
     "6b7b8ba72a4d45c0a7f718e039e646f6": {
      "model_module": "@jupyter-widgets/controls",
      "model_module_version": "1.1.0",
      "model_name": "LabelModel",
      "state": {
       "layout": "IPY_MODEL_92dddaaca3f14eee90272b7f3917d069",
       "style": "IPY_MODEL_fb534cb130034eafb32c7b61a394caed",
       "value": "Filter Name:"
      }
     },
     "6f3be022ebff4e6b9d8756abea2c7d50": {
      "model_module": "@jupyter-widgets/controls",
      "model_module_version": "1.1.0",
      "model_name": "DescriptionStyleModel",
      "state": {
       "description_width": ""
      }
     },
     "7305ffc1da914efd9e7adaa5f3b72c2b": {
      "model_module": "@jupyter-widgets/controls",
      "model_module_version": "1.1.0",
      "model_name": "HBoxModel",
      "state": {
       "children": [
        "IPY_MODEL_7cc88317e103475cbfc2b4c9d21ac4ec",
        "IPY_MODEL_bdcc149c0a1d4b65bed6c27565002202"
       ],
       "layout": "IPY_MODEL_be2f7de2cef0483689308ab883437e34"
      }
     },
     "78370df551df4aa98af624be7d605f42": {
      "model_module": "@jupyter-widgets/controls",
      "model_module_version": "1.1.0",
      "model_name": "LabelModel",
      "state": {
       "layout": "IPY_MODEL_ab849f813fb743328d08a2ea645581ed",
       "style": "IPY_MODEL_f58c7b26401a4c1dbef8c042d6e40ac0",
       "value": "Noise Level:"
      }
     },
     "7cc88317e103475cbfc2b4c9d21ac4ec": {
      "model_module": "@jupyter-widgets/controls",
      "model_module_version": "1.1.0",
      "model_name": "LabelModel",
      "state": {
       "layout": "IPY_MODEL_93b451ca0d374e009db1e2e6e8fa1cfa",
       "style": "IPY_MODEL_5826a00510a7434fbdbd74010a7b1ffd",
       "value": "Image Name:"
      }
     },
     "82650cd038be45be820f2ae6657041e8": {
      "model_module": "@jupyter-widgets/controls",
      "model_module_version": "1.1.0",
      "model_name": "DropdownModel",
      "state": {
       "_options_labels": [
        "salt_and_pepper"
       ],
       "index": 0,
       "layout": "IPY_MODEL_676363a1704b49a8851af904c28af781",
       "style": "IPY_MODEL_bb89650b4f4d460f897872c53cb0959f"
      }
     },
     "8b16a4d22b64452893ab3b8f1395c452": {
      "model_module": "@jupyter-widgets/controls",
      "model_module_version": "1.1.0",
      "model_name": "DropdownModel",
      "state": {
       "_options_labels": [
        "no_filter",
        "gaussian_filter",
        "median_filter"
       ],
       "index": 1,
       "layout": "IPY_MODEL_a69f27baaf75492f847a811af102b031",
       "style": "IPY_MODEL_55c08e3d2fc449ce80958b00514ec283"
      }
     },
     "92dddaaca3f14eee90272b7f3917d069": {
      "model_module": "@jupyter-widgets/base",
      "model_module_version": "1.0.0",
      "model_name": "LayoutModel",
      "state": {}
     },
     "9363094ad59341a697a63a33b8b9f546": {
      "model_module": "@jupyter-widgets/controls",
      "model_module_version": "1.1.0",
      "model_name": "DropdownModel",
      "state": {
       "_options_labels": [
        "1",
        "3",
        "4",
        "8",
        "20"
       ],
       "index": 1,
       "layout": "IPY_MODEL_28c4f28e6794461d85ae8512d0e62cca",
       "style": "IPY_MODEL_c37558ac615a4f3b88c47a8577a94bc5"
      }
     },
     "93b16542776444e7936dce97ffea4f7a": {
      "model_module": "@jupyter-widgets/controls",
      "model_module_version": "1.1.0",
      "model_name": "HBoxModel",
      "state": {
       "children": [
        "IPY_MODEL_06e5f7ae74074e3ba401e82a646d1c00",
        "IPY_MODEL_82650cd038be45be820f2ae6657041e8"
       ],
       "layout": "IPY_MODEL_f9778c9fabc04f24b5ac0e6b97e2ef66"
      }
     },
     "93b451ca0d374e009db1e2e6e8fa1cfa": {
      "model_module": "@jupyter-widgets/base",
      "model_module_version": "1.0.0",
      "model_name": "LayoutModel",
      "state": {}
     },
     "9d2e966d2f974a138b81d93ceb651fd1": {
      "model_module": "@jupyter-widgets/base",
      "model_module_version": "1.0.0",
      "model_name": "LayoutModel",
      "state": {}
     },
     "a69f27baaf75492f847a811af102b031": {
      "model_module": "@jupyter-widgets/base",
      "model_module_version": "1.0.0",
      "model_name": "LayoutModel",
      "state": {}
     },
     "ab849f813fb743328d08a2ea645581ed": {
      "model_module": "@jupyter-widgets/base",
      "model_module_version": "1.0.0",
      "model_name": "LayoutModel",
      "state": {}
     },
     "b12f34a13a9d478e857b140f661780fb": {
      "model_module": "@jupyter-widgets/controls",
      "model_module_version": "1.1.0",
      "model_name": "HBoxModel",
      "state": {
       "children": [
        "IPY_MODEL_bd87df23fe8a41c0b916ab4e5b9f5b15",
        "IPY_MODEL_9363094ad59341a697a63a33b8b9f546"
       ],
       "layout": "IPY_MODEL_0760ce713503407c9d8db6f78aaa752a"
      }
     },
     "bb89650b4f4d460f897872c53cb0959f": {
      "model_module": "@jupyter-widgets/controls",
      "model_module_version": "1.1.0",
      "model_name": "DescriptionStyleModel",
      "state": {
       "description_width": ""
      }
     },
     "bd87df23fe8a41c0b916ab4e5b9f5b15": {
      "model_module": "@jupyter-widgets/controls",
      "model_module_version": "1.1.0",
      "model_name": "LabelModel",
      "state": {
       "layout": "IPY_MODEL_f1b2f524b73b4ab4953528dce6cee327",
       "style": "IPY_MODEL_6f3be022ebff4e6b9d8756abea2c7d50",
       "value": "Filter Size:"
      }
     },
     "bdcc149c0a1d4b65bed6c27565002202": {
      "model_module": "@jupyter-widgets/controls",
      "model_module_version": "1.1.0",
      "model_name": "DropdownModel",
      "state": {
       "_options_labels": [
        "astronaut",
        "camera",
        "checkerboard",
        "chelsea",
        "clock",
        "coffee",
        "coins",
        "horse",
        "hubble_deep_field",
        "immunohistochemistry",
        "moon",
        "page",
        "text",
        "rocket",
        "stereo_motorcycle"
       ],
       "index": 0,
       "layout": "IPY_MODEL_18852e3e085644d8be3373b0b05055b9",
       "style": "IPY_MODEL_28f215aa64b840ea940fa50d4ef1d394"
      }
     },
     "be2f7de2cef0483689308ab883437e34": {
      "model_module": "@jupyter-widgets/base",
      "model_module_version": "1.0.0",
      "model_name": "LayoutModel",
      "state": {}
     },
     "c37558ac615a4f3b88c47a8577a94bc5": {
      "model_module": "@jupyter-widgets/controls",
      "model_module_version": "1.1.0",
      "model_name": "DescriptionStyleModel",
      "state": {
       "description_width": ""
      }
     },
     "c7717bf7a0424e22bc2e939c427a9c85": {
      "model_module": "@jupyter-widgets/controls",
      "model_module_version": "1.1.0",
      "model_name": "HBoxModel",
      "state": {
       "children": [
        "IPY_MODEL_78370df551df4aa98af624be7d605f42",
        "IPY_MODEL_e39827c690784dcb9325b81d257d034b"
       ],
       "layout": "IPY_MODEL_0f99131dd71e42ef9dfa7b7a67af3f61"
      }
     },
     "d379ee19b3464094ad9eeb7e39d92c85": {
      "model_module": "@jupyter-widgets/controls",
      "model_module_version": "1.1.0",
      "model_name": "VBoxModel",
      "state": {
       "children": [
        "IPY_MODEL_7305ffc1da914efd9e7adaa5f3b72c2b",
        "IPY_MODEL_93b16542776444e7936dce97ffea4f7a",
        "IPY_MODEL_c7717bf7a0424e22bc2e939c427a9c85",
        "IPY_MODEL_47debd2a00314529a667438e2b214937",
        "IPY_MODEL_b12f34a13a9d478e857b140f661780fb"
       ],
       "layout": "IPY_MODEL_ee67d458c3e049329e5b8caf0af6567e"
      }
     },
     "de890e1fa12a4ff68f951869f911296f": {
      "model_module": "@jupyter-widgets/base",
      "model_module_version": "1.0.0",
      "model_name": "LayoutModel",
      "state": {}
     },
     "e39827c690784dcb9325b81d257d034b": {
      "model_module": "@jupyter-widgets/controls",
      "model_module_version": "1.1.0",
      "model_name": "FloatSliderModel",
      "state": {
       "layout": "IPY_MODEL_de890e1fa12a4ff68f951869f911296f",
       "max": 1,
       "step": 0.1,
       "style": "IPY_MODEL_3cd21da2312745fe9f925430531eb657",
       "value": 0.1
      }
     },
     "e3cb3cb940974f77a1361c74b2f63040": {
      "model_module": "@jupyter-widgets/base",
      "model_module_version": "1.0.0",
      "model_name": "LayoutModel",
      "state": {}
     },
     "e8c8d9a0ab2740ba978730e851eb72de": {
      "model_module": "@jupyter-widgets/base",
      "model_module_version": "1.0.0",
      "model_name": "LayoutModel",
      "state": {}
     },
     "ee67d458c3e049329e5b8caf0af6567e": {
      "model_module": "@jupyter-widgets/base",
      "model_module_version": "1.0.0",
      "model_name": "LayoutModel",
      "state": {}
     },
     "f1b2f524b73b4ab4953528dce6cee327": {
      "model_module": "@jupyter-widgets/base",
      "model_module_version": "1.0.0",
      "model_name": "LayoutModel",
      "state": {}
     },
     "f58c7b26401a4c1dbef8c042d6e40ac0": {
      "model_module": "@jupyter-widgets/controls",
      "model_module_version": "1.1.0",
      "model_name": "DescriptionStyleModel",
      "state": {
       "description_width": ""
      }
     },
     "f6c2b899b07b43c79561ea5904a49b3c": {
      "model_module": "@jupyter-widgets/controls",
      "model_module_version": "1.1.0",
      "model_name": "VBoxModel",
      "state": {
       "children": [
        "IPY_MODEL_d379ee19b3464094ad9eeb7e39d92c85"
       ],
       "layout": "IPY_MODEL_e3cb3cb940974f77a1361c74b2f63040"
      }
     },
     "f9778c9fabc04f24b5ac0e6b97e2ef66": {
      "model_module": "@jupyter-widgets/base",
      "model_module_version": "1.0.0",
      "model_name": "LayoutModel",
      "state": {}
     },
     "fb534cb130034eafb32c7b61a394caed": {
      "model_module": "@jupyter-widgets/controls",
      "model_module_version": "1.1.0",
      "model_name": "DescriptionStyleModel",
      "state": {
       "description_width": ""
      }
     }
    },
    "version_major": 2,
    "version_minor": 0
   }
  }
 },
 "nbformat": 4,
 "nbformat_minor": 2
}
